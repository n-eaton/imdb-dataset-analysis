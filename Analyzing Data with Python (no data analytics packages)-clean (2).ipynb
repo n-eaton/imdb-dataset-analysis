{
 "cells": [
  {
   "cell_type": "code",
   "execution_count": 1,
   "id": "c3b1ab97",
   "metadata": {},
   "outputs": [],
   "source": [
    "import unicodecsv as csv"
   ]
  },
  {
   "cell_type": "markdown",
   "id": "2289fae8",
   "metadata": {},
   "source": [
    "# Data Analysis Process"
   ]
  },
  {
   "cell_type": "markdown",
   "id": "484e2737",
   "metadata": {},
   "source": [
    "### Step 1: Get data"
   ]
  },
  {
   "cell_type": "markdown",
   "id": "3fa21f6d",
   "metadata": {},
   "source": [
    "Categorical Data - Any value that if you ran mathematical operation on, you'd get nonsensical data"
   ]
  },
  {
   "cell_type": "markdown",
   "id": "2387f7f3",
   "metadata": {},
   "source": [
    "Ordinal Data - Any value that if you ran mathematical operation on it, you'd get sensical data"
   ]
  },
  {
   "cell_type": "code",
   "execution_count": null,
   "id": "a0ff30ae",
   "metadata": {},
   "outputs": [],
   "source": []
  },
  {
   "cell_type": "markdown",
   "id": "f7da8fbd",
   "metadata": {},
   "source": [
    "### Step 2: Clean Data"
   ]
  },
  {
   "cell_type": "code",
   "execution_count": null,
   "id": "91089ad1",
   "metadata": {},
   "outputs": [],
   "source": []
  },
  {
   "cell_type": "markdown",
   "id": "ef6911e0",
   "metadata": {},
   "source": [
    "### Step 3: Answer Questions with Data"
   ]
  },
  {
   "cell_type": "code",
   "execution_count": 21,
   "id": "40844a6c",
   "metadata": {},
   "outputs": [],
   "source": [
    "# unique_engagements"
   ]
  },
  {
   "cell_type": "code",
   "execution_count": null,
   "id": "65762fb7",
   "metadata": {},
   "outputs": [],
   "source": []
  },
  {
   "cell_type": "markdown",
   "id": "3ebb1898",
   "metadata": {},
   "source": [
    "<h4>Find quality accounts in which:</h4>\n",
    "<ol>\n",
    "    <li>The account is currently active i.e. is_canceled is False</li>\n",
    "    <li>days_to_cancel is greater than 7 i.e. the trial period</li>\n",
    "    <li>The latest vald record for each particular VALID user</li>\n",
    "</ol>"
   ]
  },
  {
   "cell_type": "code",
   "execution_count": null,
   "id": "f1423be7",
   "metadata": {},
   "outputs": [],
   "source": [
    "# HOMEWORK:\n",
    "\n",
    "# Take a look at data and come up with 3 good questions and use some of the methods done in this \n",
    "# Jupyter Notebook to successfully answer the questions."
   ]
  }
 ],
 "metadata": {
  "kernelspec": {
   "display_name": "Python 3",
   "language": "python",
   "name": "python3"
  },
  "language_info": {
   "codemirror_mode": {
    "name": "ipython",
    "version": 3
   },
   "file_extension": ".py",
   "mimetype": "text/x-python",
   "name": "python",
   "nbconvert_exporter": "python",
   "pygments_lexer": "ipython3",
   "version": "3.8.8"
  }
 },
 "nbformat": 4,
 "nbformat_minor": 5
}
